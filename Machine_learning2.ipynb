{
 "cells": [
  {
   "cell_type": "code",
   "execution_count": 84,
   "metadata": {},
   "outputs": [],
   "source": [
    "from surprise import Dataset\n",
    "import pandas as pd\n",
    "from surprise import Dataset, Reader\n",
    "from surprise import Reader\n",
    "from surprise import SVD\n",
    "from surprise.model_selection import train_test_split\n",
    "from surprise import accuracy\n",
    "from surprise.model_selection import cross_validate, GridSearchCV\n",
    "import pickle\n",
    "import pyarrow.parquet as pq\n",
    "import pyarrow as pa"
   ]
  },
  {
   "cell_type": "code",
   "execution_count": 193,
   "metadata": {},
   "outputs": [],
   "source": [
    "df_games = pd.read_parquet('./data/steam_games2.parquet')\n",
    "df_reviews = pd.read_parquet('./data/user_reviews.parquet')"
   ]
  },
  {
   "cell_type": "code",
   "execution_count": 194,
   "metadata": {},
   "outputs": [
    {
     "data": {
      "text/html": [
       "<div>\n",
       "<style scoped>\n",
       "    .dataframe tbody tr th:only-of-type {\n",
       "        vertical-align: middle;\n",
       "    }\n",
       "\n",
       "    .dataframe tbody tr th {\n",
       "        vertical-align: top;\n",
       "    }\n",
       "\n",
       "    .dataframe thead th {\n",
       "        text-align: right;\n",
       "    }\n",
       "</style>\n",
       "<table border=\"1\" class=\"dataframe\">\n",
       "  <thead>\n",
       "    <tr style=\"text-align: right;\">\n",
       "      <th></th>\n",
       "      <th>user_id</th>\n",
       "      <th>item_id</th>\n",
       "      <th>helpful</th>\n",
       "      <th>recommend</th>\n",
       "      <th>sentiment_analysis</th>\n",
       "      <th>posted_year</th>\n",
       "    </tr>\n",
       "  </thead>\n",
       "  <tbody>\n",
       "    <tr>\n",
       "      <th>0</th>\n",
       "      <td>76561197970982479</td>\n",
       "      <td>1250</td>\n",
       "      <td>No ratings yet</td>\n",
       "      <td>True</td>\n",
       "      <td>2</td>\n",
       "      <td>2011</td>\n",
       "    </tr>\n",
       "  </tbody>\n",
       "</table>\n",
       "</div>"
      ],
      "text/plain": [
       "             user_id  item_id         helpful  recommend  sentiment_analysis  \\\n",
       "0  76561197970982479     1250  No ratings yet       True                   2   \n",
       "\n",
       "   posted_year  \n",
       "0         2011  "
      ]
     },
     "execution_count": 194,
     "metadata": {},
     "output_type": "execute_result"
    }
   ],
   "source": [
    "df_reviews.head(1)"
   ]
  },
  {
   "cell_type": "code",
   "execution_count": 195,
   "metadata": {},
   "outputs": [
    {
     "data": {
      "text/html": [
       "<div>\n",
       "<style scoped>\n",
       "    .dataframe tbody tr th:only-of-type {\n",
       "        vertical-align: middle;\n",
       "    }\n",
       "\n",
       "    .dataframe tbody tr th {\n",
       "        vertical-align: top;\n",
       "    }\n",
       "\n",
       "    .dataframe thead th {\n",
       "        text-align: right;\n",
       "    }\n",
       "</style>\n",
       "<table border=\"1\" class=\"dataframe\">\n",
       "  <thead>\n",
       "    <tr style=\"text-align: right;\">\n",
       "      <th></th>\n",
       "      <th>app_name</th>\n",
       "      <th>price</th>\n",
       "      <th>item_id</th>\n",
       "      <th>developer</th>\n",
       "      <th>release_year</th>\n",
       "      <th>Accounting</th>\n",
       "      <th>Action</th>\n",
       "      <th>Adventure</th>\n",
       "      <th>Animation &amp;amp; Modeling</th>\n",
       "      <th>Audio Production</th>\n",
       "      <th>...</th>\n",
       "      <th>Photo Editing</th>\n",
       "      <th>RPG</th>\n",
       "      <th>Racing</th>\n",
       "      <th>Simulation</th>\n",
       "      <th>Software Training</th>\n",
       "      <th>Sports</th>\n",
       "      <th>Strategy</th>\n",
       "      <th>Utilities</th>\n",
       "      <th>Video Production</th>\n",
       "      <th>Web Publishing</th>\n",
       "    </tr>\n",
       "  </thead>\n",
       "  <tbody>\n",
       "    <tr>\n",
       "      <th>0</th>\n",
       "      <td>Lost Summoner Kitty</td>\n",
       "      <td>4.99</td>\n",
       "      <td>761140</td>\n",
       "      <td>Kotoshiro</td>\n",
       "      <td>2018</td>\n",
       "      <td>0</td>\n",
       "      <td>1</td>\n",
       "      <td>0</td>\n",
       "      <td>0</td>\n",
       "      <td>0</td>\n",
       "      <td>...</td>\n",
       "      <td>0</td>\n",
       "      <td>0</td>\n",
       "      <td>0</td>\n",
       "      <td>1</td>\n",
       "      <td>0</td>\n",
       "      <td>0</td>\n",
       "      <td>1</td>\n",
       "      <td>0</td>\n",
       "      <td>0</td>\n",
       "      <td>0</td>\n",
       "    </tr>\n",
       "  </tbody>\n",
       "</table>\n",
       "<p>1 rows × 27 columns</p>\n",
       "</div>"
      ],
      "text/plain": [
       "              app_name  price  item_id  developer  release_year  Accounting  \\\n",
       "0  Lost Summoner Kitty   4.99   761140  Kotoshiro          2018           0   \n",
       "\n",
       "   Action  Adventure  Animation &amp; Modeling  Audio Production  ...  \\\n",
       "0       1          0                         0                 0  ...   \n",
       "\n",
       "   Photo Editing  RPG  Racing  Simulation  Software Training  Sports  \\\n",
       "0              0    0       0           1                  0       0   \n",
       "\n",
       "   Strategy  Utilities  Video Production  Web Publishing  \n",
       "0         1          0                 0               0  \n",
       "\n",
       "[1 rows x 27 columns]"
      ]
     },
     "execution_count": 195,
     "metadata": {},
     "output_type": "execute_result"
    }
   ],
   "source": [
    "df_games.head(1)"
   ]
  },
  {
   "cell_type": "code",
   "execution_count": 196,
   "metadata": {},
   "outputs": [],
   "source": [
    "df = pd.merge(df_reviews[['item_id','user_id','recommend','sentiment_analysis']], df_games[['item_id','app_name']], left_on='item_id', right_on='item_id')\n"
   ]
  },
  {
   "cell_type": "code",
   "execution_count": 197,
   "metadata": {},
   "outputs": [
    {
     "data": {
      "text/html": [
       "<div>\n",
       "<style scoped>\n",
       "    .dataframe tbody tr th:only-of-type {\n",
       "        vertical-align: middle;\n",
       "    }\n",
       "\n",
       "    .dataframe tbody tr th {\n",
       "        vertical-align: top;\n",
       "    }\n",
       "\n",
       "    .dataframe thead th {\n",
       "        text-align: right;\n",
       "    }\n",
       "</style>\n",
       "<table border=\"1\" class=\"dataframe\">\n",
       "  <thead>\n",
       "    <tr style=\"text-align: right;\">\n",
       "      <th></th>\n",
       "      <th>item_id</th>\n",
       "      <th>user_id</th>\n",
       "      <th>recommend</th>\n",
       "      <th>sentiment_analysis</th>\n",
       "      <th>app_name</th>\n",
       "    </tr>\n",
       "  </thead>\n",
       "  <tbody>\n",
       "    <tr>\n",
       "      <th>0</th>\n",
       "      <td>1250</td>\n",
       "      <td>76561197970982479</td>\n",
       "      <td>True</td>\n",
       "      <td>2</td>\n",
       "      <td>Killing Floor</td>\n",
       "    </tr>\n",
       "    <tr>\n",
       "      <th>1</th>\n",
       "      <td>1250</td>\n",
       "      <td>death-hunter</td>\n",
       "      <td>True</td>\n",
       "      <td>2</td>\n",
       "      <td>Killing Floor</td>\n",
       "    </tr>\n",
       "    <tr>\n",
       "      <th>2</th>\n",
       "      <td>1250</td>\n",
       "      <td>DJKamBer</td>\n",
       "      <td>True</td>\n",
       "      <td>0</td>\n",
       "      <td>Killing Floor</td>\n",
       "    </tr>\n",
       "    <tr>\n",
       "      <th>3</th>\n",
       "      <td>1250</td>\n",
       "      <td>diego9031</td>\n",
       "      <td>True</td>\n",
       "      <td>1</td>\n",
       "      <td>Killing Floor</td>\n",
       "    </tr>\n",
       "    <tr>\n",
       "      <th>4</th>\n",
       "      <td>1250</td>\n",
       "      <td>76561198081962345</td>\n",
       "      <td>True</td>\n",
       "      <td>1</td>\n",
       "      <td>Killing Floor</td>\n",
       "    </tr>\n",
       "    <tr>\n",
       "      <th>...</th>\n",
       "      <td>...</td>\n",
       "      <td>...</td>\n",
       "      <td>...</td>\n",
       "      <td>...</td>\n",
       "      <td>...</td>\n",
       "    </tr>\n",
       "    <tr>\n",
       "      <th>44734</th>\n",
       "      <td>367780</td>\n",
       "      <td>laislabonita75</td>\n",
       "      <td>True</td>\n",
       "      <td>2</td>\n",
       "      <td>Aero's Quest</td>\n",
       "    </tr>\n",
       "    <tr>\n",
       "      <th>44735</th>\n",
       "      <td>367780</td>\n",
       "      <td>evilindiegaming</td>\n",
       "      <td>True</td>\n",
       "      <td>2</td>\n",
       "      <td>Aero's Quest</td>\n",
       "    </tr>\n",
       "    <tr>\n",
       "      <th>44736</th>\n",
       "      <td>305920</td>\n",
       "      <td>laislabonita75</td>\n",
       "      <td>False</td>\n",
       "      <td>0</td>\n",
       "      <td>Another Perspective</td>\n",
       "    </tr>\n",
       "    <tr>\n",
       "      <th>44737</th>\n",
       "      <td>306040</td>\n",
       "      <td>Gamer0009</td>\n",
       "      <td>True</td>\n",
       "      <td>2</td>\n",
       "      <td>The Howler</td>\n",
       "    </tr>\n",
       "    <tr>\n",
       "      <th>44738</th>\n",
       "      <td>307130</td>\n",
       "      <td>llDracuwulf</td>\n",
       "      <td>True</td>\n",
       "      <td>2</td>\n",
       "      <td>Asteria</td>\n",
       "    </tr>\n",
       "  </tbody>\n",
       "</table>\n",
       "<p>44739 rows × 5 columns</p>\n",
       "</div>"
      ],
      "text/plain": [
       "       item_id            user_id  recommend  sentiment_analysis  \\\n",
       "0         1250  76561197970982479       True                   2   \n",
       "1         1250       death-hunter       True                   2   \n",
       "2         1250           DJKamBer       True                   0   \n",
       "3         1250          diego9031       True                   1   \n",
       "4         1250  76561198081962345       True                   1   \n",
       "...        ...                ...        ...                 ...   \n",
       "44734   367780     laislabonita75       True                   2   \n",
       "44735   367780    evilindiegaming       True                   2   \n",
       "44736   305920     laislabonita75      False                   0   \n",
       "44737   306040          Gamer0009       True                   2   \n",
       "44738   307130        llDracuwulf       True                   2   \n",
       "\n",
       "                  app_name  \n",
       "0            Killing Floor  \n",
       "1            Killing Floor  \n",
       "2            Killing Floor  \n",
       "3            Killing Floor  \n",
       "4            Killing Floor  \n",
       "...                    ...  \n",
       "44734         Aero's Quest  \n",
       "44735         Aero's Quest  \n",
       "44736  Another Perspective  \n",
       "44737           The Howler  \n",
       "44738              Asteria  \n",
       "\n",
       "[44739 rows x 5 columns]"
      ]
     },
     "execution_count": 197,
     "metadata": {},
     "output_type": "execute_result"
    }
   ],
   "source": [
    "df"
   ]
  },
  {
   "cell_type": "code",
   "execution_count": 198,
   "metadata": {},
   "outputs": [],
   "source": [
    "for index, row in df.iterrows():\n",
    "    if (row[2] == True) and (row[3] == 2):\n",
    "        df.loc[index, 'rating'] = 5.0\n",
    "        \n",
    "    elif (row[2] == True) and (row[3] == 1):\n",
    "        df.loc[index, 'rating'] = 4.0\n",
    "        \n",
    "    elif (row[2] == True) and (row[3] == 0):\n",
    "        df.loc[index, 'rating'] = 3.0\n",
    "        \n",
    "    elif (row[2] == False) and (row[3] == 2):\n",
    "        df.loc[index, 'rating'] = 2.0\n",
    "        \n",
    "    elif (row[2] == False) and (row[3] == 1):\n",
    "        df.loc[index, 'rating'] = 1.0\n",
    "        \n",
    "    elif (row[2] == False) and (row[3] == 0):\n",
    "        df.loc[index, 'rating'] = 0.0\n"
   ]
  },
  {
   "cell_type": "code",
   "execution_count": 199,
   "metadata": {},
   "outputs": [
    {
     "data": {
      "image/png": "[encoded data removed]",
      "text/plain": [
       "<Figure size 800x600 with 1 Axes>"
      ]
     },
     "metadata": {},
     "output_type": "display_data"
    }
   ],
   "source": [
    "import matplotlib.pyplot as plt\n",
    "import pandas as pd\n",
    "from matplotlib.colors import LinearSegmentedColormap\n",
    "\n",
    "# Calcula la distribución de sentimientos\n",
    "data = df['rating'].value_counts().sort_index(ascending=False)\n",
    "percentage_data = (data / df.shape[0] * 100)\n",
    "\n",
    "\n",
    "colors = plt.get_cmap('viridis')\n",
    "\n",
    "# Crea la figura con Matplotlib\n",
    "plt.figure(figsize=(8, 6))\n",
    "bars = plt.bar(data.index, data.values)\n",
    "plt.xlabel('rating')\n",
    "plt.ylabel('Número de revisiones')\n",
    "plt.title('Distribución de {} rating (%)'.format(df.shape[0]))\n",
    "\n",
    "\n",
    "for i, (bar, v) in enumerate(zip(bars, percentage_data)):\n",
    "    bar.set_color(colors(i / len(data)))\n",
    "    bar.set_label('{:.1f}%'.format(v))\n",
    "\n",
    "\n",
    "plt.legend(loc='upper left')\n",
    "plt.show()"
   ]
  },
  {
   "cell_type": "code",
   "execution_count": 200,
   "metadata": {},
   "outputs": [
    {
     "data": {
      "text/html": [
       "<div>\n",
       "<style scoped>\n",
       "    .dataframe tbody tr th:only-of-type {\n",
       "        vertical-align: middle;\n",
       "    }\n",
       "\n",
       "    .dataframe tbody tr th {\n",
       "        vertical-align: top;\n",
       "    }\n",
       "\n",
       "    .dataframe thead th {\n",
       "        text-align: right;\n",
       "    }\n",
       "</style>\n",
       "<table border=\"1\" class=\"dataframe\">\n",
       "  <thead>\n",
       "    <tr style=\"text-align: right;\">\n",
       "      <th></th>\n",
       "      <th>item_id</th>\n",
       "      <th>user_id</th>\n",
       "      <th>recommend</th>\n",
       "      <th>sentiment_analysis</th>\n",
       "      <th>app_name</th>\n",
       "      <th>rating</th>\n",
       "    </tr>\n",
       "  </thead>\n",
       "  <tbody>\n",
       "    <tr>\n",
       "      <th>0</th>\n",
       "      <td>1250</td>\n",
       "      <td>76561197970982479</td>\n",
       "      <td>True</td>\n",
       "      <td>2</td>\n",
       "      <td>Killing Floor</td>\n",
       "      <td>5.0</td>\n",
       "    </tr>\n",
       "    <tr>\n",
       "      <th>1</th>\n",
       "      <td>1250</td>\n",
       "      <td>death-hunter</td>\n",
       "      <td>True</td>\n",
       "      <td>2</td>\n",
       "      <td>Killing Floor</td>\n",
       "      <td>5.0</td>\n",
       "    </tr>\n",
       "    <tr>\n",
       "      <th>2</th>\n",
       "      <td>1250</td>\n",
       "      <td>DJKamBer</td>\n",
       "      <td>True</td>\n",
       "      <td>0</td>\n",
       "      <td>Killing Floor</td>\n",
       "      <td>3.0</td>\n",
       "    </tr>\n",
       "    <tr>\n",
       "      <th>3</th>\n",
       "      <td>1250</td>\n",
       "      <td>diego9031</td>\n",
       "      <td>True</td>\n",
       "      <td>1</td>\n",
       "      <td>Killing Floor</td>\n",
       "      <td>4.0</td>\n",
       "    </tr>\n",
       "    <tr>\n",
       "      <th>4</th>\n",
       "      <td>1250</td>\n",
       "      <td>76561198081962345</td>\n",
       "      <td>True</td>\n",
       "      <td>1</td>\n",
       "      <td>Killing Floor</td>\n",
       "      <td>4.0</td>\n",
       "    </tr>\n",
       "  </tbody>\n",
       "</table>\n",
       "</div>"
      ],
      "text/plain": [
       "   item_id            user_id  recommend  sentiment_analysis       app_name  \\\n",
       "0     1250  76561197970982479       True                   2  Killing Floor   \n",
       "1     1250       death-hunter       True                   2  Killing Floor   \n",
       "2     1250           DJKamBer       True                   0  Killing Floor   \n",
       "3     1250          diego9031       True                   1  Killing Floor   \n",
       "4     1250  76561198081962345       True                   1  Killing Floor   \n",
       "\n",
       "   rating  \n",
       "0     5.0  \n",
       "1     5.0  \n",
       "2     3.0  \n",
       "3     4.0  \n",
       "4     4.0  "
      ]
     },
     "execution_count": 200,
     "metadata": {},
     "output_type": "execute_result"
    }
   ],
   "source": [
    "df.head()"
   ]
  },
  {
   "cell_type": "code",
   "execution_count": 201,
   "metadata": {},
   "outputs": [
    {
     "data": {
      "text/html": [
       "<div>\n",
       "<style scoped>\n",
       "    .dataframe tbody tr th:only-of-type {\n",
       "        vertical-align: middle;\n",
       "    }\n",
       "\n",
       "    .dataframe tbody tr th {\n",
       "        vertical-align: top;\n",
       "    }\n",
       "\n",
       "    .dataframe thead th {\n",
       "        text-align: right;\n",
       "    }\n",
       "</style>\n",
       "<table border=\"1\" class=\"dataframe\">\n",
       "  <thead>\n",
       "    <tr style=\"text-align: right;\">\n",
       "      <th></th>\n",
       "      <th>user_id</th>\n",
       "      <th>app_name</th>\n",
       "      <th>rating</th>\n",
       "    </tr>\n",
       "  </thead>\n",
       "  <tbody>\n",
       "    <tr>\n",
       "      <th>0</th>\n",
       "      <td>76561197970982479</td>\n",
       "      <td>Killing Floor</td>\n",
       "      <td>5.0</td>\n",
       "    </tr>\n",
       "    <tr>\n",
       "      <th>1</th>\n",
       "      <td>death-hunter</td>\n",
       "      <td>Killing Floor</td>\n",
       "      <td>5.0</td>\n",
       "    </tr>\n",
       "    <tr>\n",
       "      <th>2</th>\n",
       "      <td>DJKamBer</td>\n",
       "      <td>Killing Floor</td>\n",
       "      <td>3.0</td>\n",
       "    </tr>\n",
       "    <tr>\n",
       "      <th>3</th>\n",
       "      <td>diego9031</td>\n",
       "      <td>Killing Floor</td>\n",
       "      <td>4.0</td>\n",
       "    </tr>\n",
       "    <tr>\n",
       "      <th>4</th>\n",
       "      <td>76561198081962345</td>\n",
       "      <td>Killing Floor</td>\n",
       "      <td>4.0</td>\n",
       "    </tr>\n",
       "    <tr>\n",
       "      <th>...</th>\n",
       "      <td>...</td>\n",
       "      <td>...</td>\n",
       "      <td>...</td>\n",
       "    </tr>\n",
       "    <tr>\n",
       "      <th>44734</th>\n",
       "      <td>laislabonita75</td>\n",
       "      <td>Aero's Quest</td>\n",
       "      <td>5.0</td>\n",
       "    </tr>\n",
       "    <tr>\n",
       "      <th>44735</th>\n",
       "      <td>evilindiegaming</td>\n",
       "      <td>Aero's Quest</td>\n",
       "      <td>5.0</td>\n",
       "    </tr>\n",
       "    <tr>\n",
       "      <th>44736</th>\n",
       "      <td>laislabonita75</td>\n",
       "      <td>Another Perspective</td>\n",
       "      <td>0.0</td>\n",
       "    </tr>\n",
       "    <tr>\n",
       "      <th>44737</th>\n",
       "      <td>Gamer0009</td>\n",
       "      <td>The Howler</td>\n",
       "      <td>5.0</td>\n",
       "    </tr>\n",
       "    <tr>\n",
       "      <th>44738</th>\n",
       "      <td>llDracuwulf</td>\n",
       "      <td>Asteria</td>\n",
       "      <td>5.0</td>\n",
       "    </tr>\n",
       "  </tbody>\n",
       "</table>\n",
       "<p>44739 rows × 3 columns</p>\n",
       "</div>"
      ],
      "text/plain": [
       "                 user_id             app_name  rating\n",
       "0      76561197970982479        Killing Floor     5.0\n",
       "1           death-hunter        Killing Floor     5.0\n",
       "2               DJKamBer        Killing Floor     3.0\n",
       "3              diego9031        Killing Floor     4.0\n",
       "4      76561198081962345        Killing Floor     4.0\n",
       "...                  ...                  ...     ...\n",
       "44734     laislabonita75         Aero's Quest     5.0\n",
       "44735    evilindiegaming         Aero's Quest     5.0\n",
       "44736     laislabonita75  Another Perspective     0.0\n",
       "44737          Gamer0009           The Howler     5.0\n",
       "44738        llDracuwulf              Asteria     5.0\n",
       "\n",
       "[44739 rows x 3 columns]"
      ]
     },
     "execution_count": 201,
     "metadata": {},
     "output_type": "execute_result"
    }
   ],
   "source": [
    "entrenar= df[['user_id','app_name','rating']]\n",
    "entrenar"
   ]
  },
  {
   "cell_type": "markdown",
   "metadata": {},
   "source": [
    "# SVD"
   ]
  },
  {
   "cell_type": "code",
   "execution_count": 202,
   "metadata": {},
   "outputs": [
    {
     "name": "stdout",
     "output_type": "stream",
     "text": [
      "SVD: Conjunto de Test\n",
      "RMSE: 1.2328\n",
      "\n",
      "\n",
      "SVD: Conjunto de Entrenamiento\n",
      "RMSE: 0.8858\n"
     ]
    },
    {
     "data": {
      "text/plain": [
       "0.8858360417677626"
      ]
     },
     "execution_count": 202,
     "metadata": {},
     "output_type": "execute_result"
    }
   ],
   "source": [
    "# Definir un lector para el formato de tus datos\n",
    "reader = Reader(rating_scale=(0, 5))  # Adaptar rating_scale a tus datos\n",
    "\n",
    "# Cargar los datos con el lector\n",
    "data = Dataset.load_from_df(entrenar, reader)\n",
    "\n",
    "# Dividir el conjunto de datos en entrenamiento y prueba\n",
    "train_set, test_set = train_test_split(data, test_size=0.25)  # Puedes ajustar el tamaño de prueba\n",
    "\n",
    "# Seleccionar un algoritmo (por ejemplo, SVD) y entrenar el modelo\n",
    "svd_algo = SVD(n_factors=50, n_epochs=30, biased=True, lr_all=0.005, reg_all=0.1, random_state=42)\n",
    "svd_algo.fit(train_set)\n",
    "\n",
    "# Realizar predicciones en el conjunto de prueba\n",
    "test_pred = svd_algo.test(test_set)\n",
    "\n",
    "print(\"SVD: Conjunto de Test\")\n",
    "accuracy.rmse(test_pred, verbose=True)\n",
    "\n",
    "print(\"\\n\")\n",
    "\n",
    "print(\"SVD: Conjunto de Entrenamiento\")\n",
    "training_pred= svd_algo.test(train_set.build_testset())\n",
    "accuracy.rmse(training_pred, verbose=True)"
   ]
  },
  {
   "cell_type": "markdown",
   "metadata": {},
   "source": [
    "- Ajuste Hiperparámetros SVD"
   ]
  },
  {
   "cell_type": "code",
   "execution_count": 203,
   "metadata": {},
   "outputs": [],
   "source": [
    "#Ajuste de hiperparámetros\n",
    "param_grid = {'n_factors': [5,50,100,120],'n_epochs': [5, 10,20,35], 'lr_all': [0.001, 0.002, 0.005],\n",
    "              'reg_all': [0.002, 0.02, 0.2]}\n",
    "gs = GridSearchCV(SVD, param_grid, measures=['rmse', 'mae'], cv=3, n_jobs = -1)\n",
    "gs.fit(data)\n",
    "\n"
   ]
  },
  {
   "cell_type": "code",
   "execution_count": 204,
   "metadata": {},
   "outputs": [
    {
     "name": "stdout",
     "output_type": "stream",
     "text": [
      "Mejor valor para RMSE: 1.2247479150208342\n"
     ]
    }
   ],
   "source": [
    "print(\"Mejor valor para RMSE:\", gs.best_score['rmse'])"
   ]
  },
  {
   "cell_type": "code",
   "execution_count": 205,
   "metadata": {},
   "outputs": [
    {
     "name": "stdout",
     "output_type": "stream",
     "text": [
      "Mejores hiperparámetros: {'n_factors': 100, 'n_epochs': 35, 'lr_all': 0.005, 'reg_all': 0.2}\n"
     ]
    }
   ],
   "source": [
    "print(\"Mejores hiperparámetros:\", gs.best_params['rmse'])"
   ]
  },
  {
   "cell_type": "code",
   "execution_count": 206,
   "metadata": {},
   "outputs": [],
   "source": [
    "mejor_svd= gs.best_estimator['rmse']"
   ]
  },
  {
   "cell_type": "code",
   "execution_count": 207,
   "metadata": {},
   "outputs": [
    {
     "name": "stdout",
     "output_type": "stream",
     "text": [
      "Validación cruzada del algoritmo SVD sobre 5 particiones\n",
      "Evaluating RMSE, MAE of algorithm SVD on 10 split(s).\n",
      "\n",
      "                  Fold 1  Fold 2  Fold 3  Fold 4  Fold 5  Fold 6  Fold 7  Fold 8  Fold 9  Fold 10 Mean    Std     \n",
      "RMSE (testset)    1.2174  1.2269  1.1962  1.2297  1.2270  1.2120  1.2385  1.2404  1.2100  1.2103  1.2208  0.0133  \n",
      "MAE (testset)     0.9007  0.9026  0.8897  0.9140  0.9032  0.8933  0.9120  0.9131  0.8974  0.8952  0.9021  0.0081  \n",
      "Fit time          1.24    1.03    1.41    1.23    1.13    0.96    1.02    0.96    0.99    0.99    1.10    0.15    \n",
      "Test time         0.03    0.02    0.08    0.02    0.03    0.02    0.02    0.02    0.02    0.04    0.03    0.02    \n"
     ]
    },
    {
     "data": {
      "text/plain": [
       "{'test_rmse': array([1.21742676, 1.22690139, 1.1962476 , 1.22967924, 1.22699125,\n",
       "        1.21198299, 1.23847068, 1.24042625, 1.21002148, 1.21030282]),\n",
       " 'test_mae': array([0.90067911, 0.90262212, 0.88970457, 0.91397048, 0.90315069,\n",
       "        0.89328099, 0.91196089, 0.91306713, 0.89740426, 0.89515889]),\n",
       " 'fit_time': (1.2357723712921143,\n",
       "  1.0262362957000732,\n",
       "  1.4130563735961914,\n",
       "  1.234813928604126,\n",
       "  1.1292595863342285,\n",
       "  0.9618945121765137,\n",
       "  1.0178136825561523,\n",
       "  0.9602503776550293,\n",
       "  0.9905531406402588,\n",
       "  0.9881777763366699),\n",
       " 'test_time': (0.03109884262084961,\n",
       "  0.024271726608276367,\n",
       "  0.07532715797424316,\n",
       "  0.0237882137298584,\n",
       "  0.025216341018676758,\n",
       "  0.02209925651550293,\n",
       "  0.021127700805664062,\n",
       "  0.02402496337890625,\n",
       "  0.0233614444732666,\n",
       "  0.040348052978515625)}"
      ]
     },
     "execution_count": 207,
     "metadata": {},
     "output_type": "execute_result"
    }
   ],
   "source": [
    "print(\"Validación cruzada del algoritmo SVD sobre 5 particiones\")\n",
    "cross_validate(mejor_svd, data, measures=['RMSE', 'MAE'], cv=10, verbose=True)"
   ]
  },
  {
   "cell_type": "markdown",
   "metadata": {},
   "source": [
    "- Modelo con mejor hiperparámetros"
   ]
  },
  {
   "cell_type": "code",
   "execution_count": 208,
   "metadata": {},
   "outputs": [
    {
     "name": "stdout",
     "output_type": "stream",
     "text": [
      "Evaluating RMSE, MAE of algorithm SVD on 7 split(s).\n",
      "\n",
      "                  Fold 1  Fold 2  Fold 3  Fold 4  Fold 5  Fold 6  Fold 7  Mean    Std     \n",
      "RMSE (testset)    1.2273  1.2465  1.1950  1.2472  1.2026  1.1938  1.2348  1.2210  0.0218  \n",
      "MAE (testset)     0.9045  0.9217  0.8913  0.9157  0.8910  0.8957  0.9090  0.9041  0.0112  \n",
      "Fit time          1.26    1.08    1.05    1.01    1.05    1.29    1.28    1.15    0.11    \n",
      "Test time         0.06    0.03    0.03    0.03    0.04    0.05    0.04    0.04    0.01    \n",
      "SVD: Conjunto de Test\n",
      "RMSE: 1.2329\n",
      "\n",
      "\n",
      "SVD: Conjunto de Entrenamiento\n",
      "RMSE: 0.8368\n"
     ]
    },
    {
     "data": {
      "text/plain": [
       "0.8367625293527147"
      ]
     },
     "execution_count": 208,
     "metadata": {},
     "output_type": "execute_result"
    }
   ],
   "source": [
    "reader2 = Reader(rating_scale=(0, 5))  # Adaptar rating_scale a tus datos\n",
    "\n",
    "# Cargar los datos con el lector\n",
    "data2 = Dataset.load_from_df(entrenar, reader2)\n",
    "\n",
    "# Dividir el conjunto de datos en entrenamiento y prueba\n",
    "train_set, test_set = train_test_split(data2, test_size=0.25,random_state=42)  # Puedes ajustar el tamaño de prueba\n",
    "\n",
    "# Seleccionar un algoritmo (por ejemplo, SVD) y entrenar el modelo\n",
    "svd_algo2 = SVD(n_factors= 120, n_epochs= 35, lr_all= 0.005, reg_all= 0.2)\n",
    "cross_validate(svd_algo2, data2, measures=['RMSE', 'MAE'], cv=7, verbose=True)\n",
    "svd_algo2.fit(train_set)\n",
    "\n",
    "# Realizar predicciones en el conjunto de prueba\n",
    "test_pred2 = svd_algo2.test(test_set)\n",
    "\n",
    "print(\"SVD: Conjunto de Test\")\n",
    "accuracy.rmse(test_pred2, verbose=True)\n",
    "\n",
    "print(\"\\n\")\n",
    "\n",
    "print(\"SVD: Conjunto de Entrenamiento\")\n",
    "training_pred2= svd_algo2.test(train_set.build_testset())\n",
    "accuracy.rmse(training_pred2, verbose=True)"
   ]
  },
  {
   "cell_type": "code",
   "execution_count": 209,
   "metadata": {},
   "outputs": [],
   "source": [
    "with open('modelo2.pkl', 'wb') as archivo:\n",
    "    pickle.dump(svd_algo2, archivo)\n",
    "    "
   ]
  },
  {
   "cell_type": "code",
   "execution_count": 222,
   "metadata": {},
   "outputs": [],
   "source": [
    "with open ('modelo2.pkl', 'rb') as archivo:\n",
    "    modelo = pickle.load(archivo)"
   ]
  },
  {
   "cell_type": "code",
   "execution_count": 223,
   "metadata": {},
   "outputs": [],
   "source": [
    "def recomendar_peliculas(user_id):\n",
    "    diccionario = {}\n",
    "    # Crear una lista de juegos ya valorados por el usuario específico\n",
    "    juegos_valorados = df[df['user_id'] == user_id]['app_name'].unique()\n",
    "\n",
    "    # Crear una lista de todos los juegos disponibles\n",
    "    todos_los_juegos = df['app_name'].unique()\n",
    "\n",
    "    # Crear una lista de juegos no valorados por el usuario específico\n",
    "    juegos_no_valorados = list(set(todos_los_juegos) - set(juegos_valorados))\n",
    "\n",
    "    # Generar predicciones para los juegos no valorados por el usuario\n",
    "    predicciones = [modelo.predict(user_id, juego) for juego in juegos_no_valorados]\n",
    "\n",
    "    # Ordenar las predicciones en base a la valoración y obtener los juegos recomendados\n",
    "    recomendaciones = sorted(predicciones, key=lambda x: x.est, reverse=True)[:5]  # Obtener las 5 mejores recomendaciones\n",
    "\n",
    "    # Mostrar los juegos recomendados\n",
    "    listado=[]\n",
    "    for recomendacion in recomendaciones:\n",
    "        #print(f\"Juego: {recomendacion.iid}\")\n",
    "        listado.append(recomendacion.iid)\n",
    "        \n",
    "    \n",
    "    for i, juego in enumerate(listado, start=1):\n",
    "        opcion = f\"opcion{i}\"\n",
    "        diccionario[opcion] = juego\n",
    "\n",
    "    if user_id not in df['user_id'].unique():\n",
    "        print(\"El usuario no existe\")\n",
    "        return None\n",
    "    else:\n",
    "        return diccionario\n",
    " "
   ]
  },
  {
   "cell_type": "code",
   "execution_count": 224,
   "metadata": {},
   "outputs": [
    {
     "data": {
      "text/plain": [
       "{'opcion1': 'Race The Sun',\n",
       " 'opcion2': 'Psychonauts',\n",
       " 'opcion3': 'Magicite',\n",
       " 'opcion4': 'Bastion',\n",
       " 'opcion5': 'The Swapper'}"
      ]
     },
     "execution_count": 224,
     "metadata": {},
     "output_type": "execute_result"
    }
   ],
   "source": [
    "recomendar_peliculas('JunG00berfuckingsucks')"
   ]
  },
  {
   "cell_type": "code",
   "execution_count": 213,
   "metadata": {},
   "outputs": [
    {
     "data": {
      "text/plain": [
       "{'opcion1': 'Psychonauts',\n",
       " 'opcion2': 'The Vanishing of Ethan Carter',\n",
       " 'opcion3': 'Crawl',\n",
       " 'opcion4': 'Ori and the Blind Forest',\n",
       " 'opcion5': 'The Bridge'}"
      ]
     },
     "execution_count": 213,
     "metadata": {},
     "output_type": "execute_result"
    }
   ],
   "source": [
    "recomendar_peliculas('Gamer0009')"
   ]
  },
  {
   "cell_type": "code",
   "execution_count": 214,
   "metadata": {},
   "outputs": [
    {
     "data": {
      "text/plain": [
       "{'opcion1': 'Bastion',\n",
       " 'opcion2': 'Ori and the Blind Forest',\n",
       " 'opcion3': 'Psychonauts',\n",
       " 'opcion4': 'Tropico 4',\n",
       " 'opcion5': 'Rogue Legacy'}"
      ]
     },
     "execution_count": 214,
     "metadata": {},
     "output_type": "execute_result"
    }
   ],
   "source": [
    "recomendar_peliculas('laislabonita75')"
   ]
  },
  {
   "cell_type": "code",
   "execution_count": 19,
   "metadata": {},
   "outputs": [
    {
     "name": "stdout",
     "output_type": "stream",
     "text": [
      "SVD: Conjunto de Test\n",
      "RMSE: 0.8473\n",
      "\n",
      "\n",
      "SVD: Conjunto de Entrenamiento\n",
      "RMSE: 0.8392\n"
     ]
    },
    {
     "data": {
      "text/plain": [
       "0.8392128669402595"
      ]
     },
     "execution_count": 19,
     "metadata": {},
     "output_type": "execute_result"
    }
   ],
   "source": [
    "\n",
    "mejor_svd.fit(data.build_full_trainset())\n",
    "# Realizar predicciones en el conjunto de prueba\n",
    "test_pred = mejor_svd.test(test_set)\n",
    "\n",
    "print(\"SVD: Conjunto de Test\")\n",
    "accuracy.rmse(test_pred, verbose=True)\n",
    "\n",
    "print(\"\\n\")\n",
    "\n",
    "print(\"SVD: Conjunto de Entrenamiento\")\n",
    "training_pred= mejor_svd.test(train_set.build_testset())\n",
    "accuracy.rmse(training_pred, verbose=True)"
   ]
  },
  {
   "cell_type": "code",
   "execution_count": 20,
   "metadata": {},
   "outputs": [
    {
     "data": {
      "text/plain": [
       "Prediction(uid='76561197970982479', iid='Killing Floor', r_ui=5.0, est=4.495507742071554, details={'was_impossible': False})"
      ]
     },
     "execution_count": 20,
     "metadata": {},
     "output_type": "execute_result"
    }
   ],
   "source": [
    "mejor_svd.predict(uid='76561197970982479', iid='Killing Floor', r_ui=5.0)"
   ]
  },
  {
   "cell_type": "code",
   "execution_count": 21,
   "metadata": {},
   "outputs": [
    {
     "data": {
      "text/html": [
       "<div>\n",
       "<style scoped>\n",
       "    .dataframe tbody tr th:only-of-type {\n",
       "        vertical-align: middle;\n",
       "    }\n",
       "\n",
       "    .dataframe tbody tr th {\n",
       "        vertical-align: top;\n",
       "    }\n",
       "\n",
       "    .dataframe thead th {\n",
       "        text-align: right;\n",
       "    }\n",
       "</style>\n",
       "<table border=\"1\" class=\"dataframe\">\n",
       "  <thead>\n",
       "    <tr style=\"text-align: right;\">\n",
       "      <th></th>\n",
       "      <th>user_id</th>\n",
       "      <th>app_name</th>\n",
       "      <th>rating</th>\n",
       "    </tr>\n",
       "  </thead>\n",
       "  <tbody>\n",
       "    <tr>\n",
       "      <th>0</th>\n",
       "      <td>76561197970982479</td>\n",
       "      <td>Killing Floor</td>\n",
       "      <td>5.0</td>\n",
       "    </tr>\n",
       "  </tbody>\n",
       "</table>\n",
       "</div>"
      ],
      "text/plain": [
       "             user_id       app_name  rating\n",
       "0  76561197970982479  Killing Floor     5.0"
      ]
     },
     "execution_count": 21,
     "metadata": {},
     "output_type": "execute_result"
    }
   ],
   "source": [
    "entrenar.head(1)"
   ]
  },
  {
   "cell_type": "code",
   "execution_count": 22,
   "metadata": {},
   "outputs": [],
   "source": [
    "def obtener_prediccion(row):\n",
    "    user_id = row['user_id']\n",
    "    item_id = row['item_id']\n",
    "    prediccion = mejor_svd.predict(uid=user_id, iid=item_id)\n",
    "    return prediccion.est\n",
    "\n",
    "# Aplica la función de obtención de predicciones a cada fila del DataFrame\n",
    "df['predicciones'] = df.apply(obtener_prediccion, axis=1)\n"
   ]
  },
  {
   "cell_type": "code",
   "execution_count": 225,
   "metadata": {},
   "outputs": [
    {
     "data": {
      "text/html": [
       "<div>\n",
       "<style scoped>\n",
       "    .dataframe tbody tr th:only-of-type {\n",
       "        vertical-align: middle;\n",
       "    }\n",
       "\n",
       "    .dataframe tbody tr th {\n",
       "        vertical-align: top;\n",
       "    }\n",
       "\n",
       "    .dataframe thead th {\n",
       "        text-align: right;\n",
       "    }\n",
       "</style>\n",
       "<table border=\"1\" class=\"dataframe\">\n",
       "  <thead>\n",
       "    <tr style=\"text-align: right;\">\n",
       "      <th></th>\n",
       "      <th>item_id</th>\n",
       "      <th>user_id</th>\n",
       "      <th>recommend</th>\n",
       "      <th>sentiment_analysis</th>\n",
       "      <th>app_name</th>\n",
       "      <th>rating</th>\n",
       "    </tr>\n",
       "  </thead>\n",
       "  <tbody>\n",
       "    <tr>\n",
       "      <th>0</th>\n",
       "      <td>1250</td>\n",
       "      <td>76561197970982479</td>\n",
       "      <td>True</td>\n",
       "      <td>2</td>\n",
       "      <td>Killing Floor</td>\n",
       "      <td>5.0</td>\n",
       "    </tr>\n",
       "    <tr>\n",
       "      <th>1</th>\n",
       "      <td>1250</td>\n",
       "      <td>death-hunter</td>\n",
       "      <td>True</td>\n",
       "      <td>2</td>\n",
       "      <td>Killing Floor</td>\n",
       "      <td>5.0</td>\n",
       "    </tr>\n",
       "    <tr>\n",
       "      <th>2</th>\n",
       "      <td>1250</td>\n",
       "      <td>DJKamBer</td>\n",
       "      <td>True</td>\n",
       "      <td>0</td>\n",
       "      <td>Killing Floor</td>\n",
       "      <td>3.0</td>\n",
       "    </tr>\n",
       "    <tr>\n",
       "      <th>3</th>\n",
       "      <td>1250</td>\n",
       "      <td>diego9031</td>\n",
       "      <td>True</td>\n",
       "      <td>1</td>\n",
       "      <td>Killing Floor</td>\n",
       "      <td>4.0</td>\n",
       "    </tr>\n",
       "    <tr>\n",
       "      <th>4</th>\n",
       "      <td>1250</td>\n",
       "      <td>76561198081962345</td>\n",
       "      <td>True</td>\n",
       "      <td>1</td>\n",
       "      <td>Killing Floor</td>\n",
       "      <td>4.0</td>\n",
       "    </tr>\n",
       "    <tr>\n",
       "      <th>...</th>\n",
       "      <td>...</td>\n",
       "      <td>...</td>\n",
       "      <td>...</td>\n",
       "      <td>...</td>\n",
       "      <td>...</td>\n",
       "      <td>...</td>\n",
       "    </tr>\n",
       "    <tr>\n",
       "      <th>44734</th>\n",
       "      <td>367780</td>\n",
       "      <td>laislabonita75</td>\n",
       "      <td>True</td>\n",
       "      <td>2</td>\n",
       "      <td>Aero's Quest</td>\n",
       "      <td>5.0</td>\n",
       "    </tr>\n",
       "    <tr>\n",
       "      <th>44735</th>\n",
       "      <td>367780</td>\n",
       "      <td>evilindiegaming</td>\n",
       "      <td>True</td>\n",
       "      <td>2</td>\n",
       "      <td>Aero's Quest</td>\n",
       "      <td>5.0</td>\n",
       "    </tr>\n",
       "    <tr>\n",
       "      <th>44736</th>\n",
       "      <td>305920</td>\n",
       "      <td>laislabonita75</td>\n",
       "      <td>False</td>\n",
       "      <td>0</td>\n",
       "      <td>Another Perspective</td>\n",
       "      <td>0.0</td>\n",
       "    </tr>\n",
       "    <tr>\n",
       "      <th>44737</th>\n",
       "      <td>306040</td>\n",
       "      <td>Gamer0009</td>\n",
       "      <td>True</td>\n",
       "      <td>2</td>\n",
       "      <td>The Howler</td>\n",
       "      <td>5.0</td>\n",
       "    </tr>\n",
       "    <tr>\n",
       "      <th>44738</th>\n",
       "      <td>307130</td>\n",
       "      <td>llDracuwulf</td>\n",
       "      <td>True</td>\n",
       "      <td>2</td>\n",
       "      <td>Asteria</td>\n",
       "      <td>5.0</td>\n",
       "    </tr>\n",
       "  </tbody>\n",
       "</table>\n",
       "<p>44739 rows × 6 columns</p>\n",
       "</div>"
      ],
      "text/plain": [
       "       item_id            user_id  recommend  sentiment_analysis  \\\n",
       "0         1250  76561197970982479       True                   2   \n",
       "1         1250       death-hunter       True                   2   \n",
       "2         1250           DJKamBer       True                   0   \n",
       "3         1250          diego9031       True                   1   \n",
       "4         1250  76561198081962345       True                   1   \n",
       "...        ...                ...        ...                 ...   \n",
       "44734   367780     laislabonita75       True                   2   \n",
       "44735   367780    evilindiegaming       True                   2   \n",
       "44736   305920     laislabonita75      False                   0   \n",
       "44737   306040          Gamer0009       True                   2   \n",
       "44738   307130        llDracuwulf       True                   2   \n",
       "\n",
       "                  app_name  rating  \n",
       "0            Killing Floor     5.0  \n",
       "1            Killing Floor     5.0  \n",
       "2            Killing Floor     3.0  \n",
       "3            Killing Floor     4.0  \n",
       "4            Killing Floor     4.0  \n",
       "...                    ...     ...  \n",
       "44734         Aero's Quest     5.0  \n",
       "44735         Aero's Quest     5.0  \n",
       "44736  Another Perspective     0.0  \n",
       "44737           The Howler     5.0  \n",
       "44738              Asteria     5.0  \n",
       "\n",
       "[44739 rows x 6 columns]"
      ]
     },
     "execution_count": 225,
     "metadata": {},
     "output_type": "execute_result"
    }
   ],
   "source": [
    "df"
   ]
  },
  {
   "cell_type": "markdown",
   "metadata": {},
   "source": [
    "- parquet"
   ]
  },
  {
   "cell_type": "code",
   "execution_count": 226,
   "metadata": {},
   "outputs": [
    {
     "data": {
      "text/html": [
       "<div>\n",
       "<style scoped>\n",
       "    .dataframe tbody tr th:only-of-type {\n",
       "        vertical-align: middle;\n",
       "    }\n",
       "\n",
       "    .dataframe tbody tr th {\n",
       "        vertical-align: top;\n",
       "    }\n",
       "\n",
       "    .dataframe thead th {\n",
       "        text-align: right;\n",
       "    }\n",
       "</style>\n",
       "<table border=\"1\" class=\"dataframe\">\n",
       "  <thead>\n",
       "    <tr style=\"text-align: right;\">\n",
       "      <th></th>\n",
       "      <th>item_id</th>\n",
       "      <th>user_id</th>\n",
       "      <th>recommend</th>\n",
       "      <th>sentiment_analysis</th>\n",
       "      <th>app_name</th>\n",
       "      <th>rating</th>\n",
       "    </tr>\n",
       "  </thead>\n",
       "  <tbody>\n",
       "    <tr>\n",
       "      <th>0</th>\n",
       "      <td>1250</td>\n",
       "      <td>76561197970982479</td>\n",
       "      <td>True</td>\n",
       "      <td>2</td>\n",
       "      <td>Killing Floor</td>\n",
       "      <td>5.0</td>\n",
       "    </tr>\n",
       "    <tr>\n",
       "      <th>1</th>\n",
       "      <td>1250</td>\n",
       "      <td>death-hunter</td>\n",
       "      <td>True</td>\n",
       "      <td>2</td>\n",
       "      <td>Killing Floor</td>\n",
       "      <td>5.0</td>\n",
       "    </tr>\n",
       "    <tr>\n",
       "      <th>2</th>\n",
       "      <td>1250</td>\n",
       "      <td>DJKamBer</td>\n",
       "      <td>True</td>\n",
       "      <td>0</td>\n",
       "      <td>Killing Floor</td>\n",
       "      <td>3.0</td>\n",
       "    </tr>\n",
       "    <tr>\n",
       "      <th>3</th>\n",
       "      <td>1250</td>\n",
       "      <td>diego9031</td>\n",
       "      <td>True</td>\n",
       "      <td>1</td>\n",
       "      <td>Killing Floor</td>\n",
       "      <td>4.0</td>\n",
       "    </tr>\n",
       "    <tr>\n",
       "      <th>4</th>\n",
       "      <td>1250</td>\n",
       "      <td>76561198081962345</td>\n",
       "      <td>True</td>\n",
       "      <td>1</td>\n",
       "      <td>Killing Floor</td>\n",
       "      <td>4.0</td>\n",
       "    </tr>\n",
       "    <tr>\n",
       "      <th>...</th>\n",
       "      <td>...</td>\n",
       "      <td>...</td>\n",
       "      <td>...</td>\n",
       "      <td>...</td>\n",
       "      <td>...</td>\n",
       "      <td>...</td>\n",
       "    </tr>\n",
       "    <tr>\n",
       "      <th>44734</th>\n",
       "      <td>367780</td>\n",
       "      <td>laislabonita75</td>\n",
       "      <td>True</td>\n",
       "      <td>2</td>\n",
       "      <td>Aero's Quest</td>\n",
       "      <td>5.0</td>\n",
       "    </tr>\n",
       "    <tr>\n",
       "      <th>44735</th>\n",
       "      <td>367780</td>\n",
       "      <td>evilindiegaming</td>\n",
       "      <td>True</td>\n",
       "      <td>2</td>\n",
       "      <td>Aero's Quest</td>\n",
       "      <td>5.0</td>\n",
       "    </tr>\n",
       "    <tr>\n",
       "      <th>44736</th>\n",
       "      <td>305920</td>\n",
       "      <td>laislabonita75</td>\n",
       "      <td>False</td>\n",
       "      <td>0</td>\n",
       "      <td>Another Perspective</td>\n",
       "      <td>0.0</td>\n",
       "    </tr>\n",
       "    <tr>\n",
       "      <th>44737</th>\n",
       "      <td>306040</td>\n",
       "      <td>Gamer0009</td>\n",
       "      <td>True</td>\n",
       "      <td>2</td>\n",
       "      <td>The Howler</td>\n",
       "      <td>5.0</td>\n",
       "    </tr>\n",
       "    <tr>\n",
       "      <th>44738</th>\n",
       "      <td>307130</td>\n",
       "      <td>llDracuwulf</td>\n",
       "      <td>True</td>\n",
       "      <td>2</td>\n",
       "      <td>Asteria</td>\n",
       "      <td>5.0</td>\n",
       "    </tr>\n",
       "  </tbody>\n",
       "</table>\n",
       "<p>44739 rows × 6 columns</p>\n",
       "</div>"
      ],
      "text/plain": [
       "       item_id            user_id  recommend  sentiment_analysis  \\\n",
       "0         1250  76561197970982479       True                   2   \n",
       "1         1250       death-hunter       True                   2   \n",
       "2         1250           DJKamBer       True                   0   \n",
       "3         1250          diego9031       True                   1   \n",
       "4         1250  76561198081962345       True                   1   \n",
       "...        ...                ...        ...                 ...   \n",
       "44734   367780     laislabonita75       True                   2   \n",
       "44735   367780    evilindiegaming       True                   2   \n",
       "44736   305920     laislabonita75      False                   0   \n",
       "44737   306040          Gamer0009       True                   2   \n",
       "44738   307130        llDracuwulf       True                   2   \n",
       "\n",
       "                  app_name  rating  \n",
       "0            Killing Floor     5.0  \n",
       "1            Killing Floor     5.0  \n",
       "2            Killing Floor     3.0  \n",
       "3            Killing Floor     4.0  \n",
       "4            Killing Floor     4.0  \n",
       "...                    ...     ...  \n",
       "44734         Aero's Quest     5.0  \n",
       "44735         Aero's Quest     5.0  \n",
       "44736  Another Perspective     0.0  \n",
       "44737           The Howler     5.0  \n",
       "44738              Asteria     5.0  \n",
       "\n",
       "[44739 rows x 6 columns]"
      ]
     },
     "execution_count": 226,
     "metadata": {},
     "output_type": "execute_result"
    }
   ],
   "source": [
    "table= pa.Table.from_pandas(df) \n",
    "pq.write_table(table, 'df_ML2.parquet')\n",
    "\n",
    "table=pq.read_table('df_ML2.parquet') \n",
    "games_parquet= table.to_pandas() \n",
    "games_parquet"
   ]
  },
  {
   "cell_type": "code",
   "execution_count": 78,
   "metadata": {},
   "outputs": [
    {
     "ename": "KeyError",
     "evalue": "'predicciones'",
     "output_type": "error",
     "traceback": [
      "\u001b[1;31m---------------------------------------------------------------------------\u001b[0m",
      "\u001b[1;31mKeyError\u001b[0m                                  Traceback (most recent call last)",
      "\u001b[1;32m~\\AppData\\Local\\Temp\\ipykernel_8364\\2278972225.py\u001b[0m in \u001b[0;36m?\u001b[1;34m()\u001b[0m\n\u001b[1;32m---> 13\u001b[1;33m \u001b[1;31m# Supongamos que tienes un DataFrame llamado df con las predicciones de calificación\u001b[0m\u001b[1;33m\u001b[0m\u001b[1;33m\u001b[0m\u001b[0m\n\u001b[0m\u001b[0;32m     14\u001b[0m \u001b[1;31m# y un usuario específico con user_id='76561197970982479'\u001b[0m\u001b[1;33m\u001b[0m\u001b[1;33m\u001b[0m\u001b[0m\n\u001b[0;32m     15\u001b[0m \u001b[1;33m\u001b[0m\u001b[0m\n\u001b[0;32m     16\u001b[0m \u001b[1;31m#'LydiaMorley'\u001b[0m\u001b[1;33m\u001b[0m\u001b[1;33m\u001b[0m\u001b[0m\n",
      "\u001b[1;32mc:\\Users\\llaur\\miniconda3\\envs\\Luisin\\lib\\site-packages\\pandas\\core\\frame.py\u001b[0m in \u001b[0;36m?\u001b[1;34m(self, by, axis, ascending, inplace, kind, na_position, ignore_index, key)\u001b[0m\n\u001b[0;32m   6754\u001b[0m         \u001b[1;32melif\u001b[0m \u001b[0mlen\u001b[0m\u001b[1;33m(\u001b[0m\u001b[0mby\u001b[0m\u001b[1;33m)\u001b[0m\u001b[1;33m:\u001b[0m\u001b[1;33m\u001b[0m\u001b[1;33m\u001b[0m\u001b[0m\n\u001b[0;32m   6755\u001b[0m             \u001b[1;31m# len(by) == 1\u001b[0m\u001b[1;33m\u001b[0m\u001b[1;33m\u001b[0m\u001b[0m\n\u001b[0;32m   6756\u001b[0m \u001b[1;33m\u001b[0m\u001b[0m\n\u001b[0;32m   6757\u001b[0m             \u001b[0mby\u001b[0m \u001b[1;33m=\u001b[0m \u001b[0mby\u001b[0m\u001b[1;33m[\u001b[0m\u001b[1;36m0\u001b[0m\u001b[1;33m]\u001b[0m\u001b[1;33m\u001b[0m\u001b[1;33m\u001b[0m\u001b[0m\n\u001b[1;32m-> 6758\u001b[1;33m             \u001b[0mk\u001b[0m \u001b[1;33m=\u001b[0m \u001b[0mself\u001b[0m\u001b[1;33m.\u001b[0m\u001b[0m_get_label_or_level_values\u001b[0m\u001b[1;33m(\u001b[0m\u001b[0mby\u001b[0m\u001b[1;33m,\u001b[0m \u001b[0maxis\u001b[0m\u001b[1;33m=\u001b[0m\u001b[0maxis\u001b[0m\u001b[1;33m)\u001b[0m\u001b[1;33m\u001b[0m\u001b[1;33m\u001b[0m\u001b[0m\n\u001b[0m\u001b[0;32m   6759\u001b[0m \u001b[1;33m\u001b[0m\u001b[0m\n\u001b[0;32m   6760\u001b[0m             \u001b[1;31m# need to rewrap column in Series to apply key function\u001b[0m\u001b[1;33m\u001b[0m\u001b[1;33m\u001b[0m\u001b[0m\n\u001b[0;32m   6761\u001b[0m             \u001b[1;32mif\u001b[0m \u001b[0mkey\u001b[0m \u001b[1;32mis\u001b[0m \u001b[1;32mnot\u001b[0m \u001b[1;32mNone\u001b[0m\u001b[1;33m:\u001b[0m\u001b[1;33m\u001b[0m\u001b[1;33m\u001b[0m\u001b[0m\n",
      "\u001b[1;32mc:\\Users\\llaur\\miniconda3\\envs\\Luisin\\lib\\site-packages\\pandas\\core\\generic.py\u001b[0m in \u001b[0;36m?\u001b[1;34m(self, key, axis)\u001b[0m\n\u001b[0;32m   1774\u001b[0m             \u001b[0mvalues\u001b[0m \u001b[1;33m=\u001b[0m \u001b[0mself\u001b[0m\u001b[1;33m.\u001b[0m\u001b[0mxs\u001b[0m\u001b[1;33m(\u001b[0m\u001b[0mkey\u001b[0m\u001b[1;33m,\u001b[0m \u001b[0maxis\u001b[0m\u001b[1;33m=\u001b[0m\u001b[0mother_axes\u001b[0m\u001b[1;33m[\u001b[0m\u001b[1;36m0\u001b[0m\u001b[1;33m]\u001b[0m\u001b[1;33m)\u001b[0m\u001b[1;33m.\u001b[0m\u001b[0m_values\u001b[0m\u001b[1;33m\u001b[0m\u001b[1;33m\u001b[0m\u001b[0m\n\u001b[0;32m   1775\u001b[0m         \u001b[1;32melif\u001b[0m \u001b[0mself\u001b[0m\u001b[1;33m.\u001b[0m\u001b[0m_is_level_reference\u001b[0m\u001b[1;33m(\u001b[0m\u001b[0mkey\u001b[0m\u001b[1;33m,\u001b[0m \u001b[0maxis\u001b[0m\u001b[1;33m=\u001b[0m\u001b[0maxis\u001b[0m\u001b[1;33m)\u001b[0m\u001b[1;33m:\u001b[0m\u001b[1;33m\u001b[0m\u001b[1;33m\u001b[0m\u001b[0m\n\u001b[0;32m   1776\u001b[0m             \u001b[0mvalues\u001b[0m \u001b[1;33m=\u001b[0m \u001b[0mself\u001b[0m\u001b[1;33m.\u001b[0m\u001b[0maxes\u001b[0m\u001b[1;33m[\u001b[0m\u001b[0maxis\u001b[0m\u001b[1;33m]\u001b[0m\u001b[1;33m.\u001b[0m\u001b[0mget_level_values\u001b[0m\u001b[1;33m(\u001b[0m\u001b[0mkey\u001b[0m\u001b[1;33m)\u001b[0m\u001b[1;33m.\u001b[0m\u001b[0m_values\u001b[0m\u001b[1;33m\u001b[0m\u001b[1;33m\u001b[0m\u001b[0m\n\u001b[0;32m   1777\u001b[0m         \u001b[1;32melse\u001b[0m\u001b[1;33m:\u001b[0m\u001b[1;33m\u001b[0m\u001b[1;33m\u001b[0m\u001b[0m\n\u001b[1;32m-> 1778\u001b[1;33m             \u001b[1;32mraise\u001b[0m \u001b[0mKeyError\u001b[0m\u001b[1;33m(\u001b[0m\u001b[0mkey\u001b[0m\u001b[1;33m)\u001b[0m\u001b[1;33m\u001b[0m\u001b[1;33m\u001b[0m\u001b[0m\n\u001b[0m\u001b[0;32m   1779\u001b[0m \u001b[1;33m\u001b[0m\u001b[0m\n\u001b[0;32m   1780\u001b[0m         \u001b[1;31m# Check for duplicates\u001b[0m\u001b[1;33m\u001b[0m\u001b[1;33m\u001b[0m\u001b[0m\n\u001b[0;32m   1781\u001b[0m         \u001b[1;32mif\u001b[0m \u001b[0mvalues\u001b[0m\u001b[1;33m.\u001b[0m\u001b[0mndim\u001b[0m \u001b[1;33m>\u001b[0m \u001b[1;36m1\u001b[0m\u001b[1;33m:\u001b[0m\u001b[1;33m\u001b[0m\u001b[1;33m\u001b[0m\u001b[0m\n",
      "\u001b[1;31mKeyError\u001b[0m: 'predicciones'"
     ]
    }
   ],
   "source": [
    "# Supongamos que tienes un DataFrame llamado df con las predicciones de calificación\n",
    "# y un usuario específico con user_id='76561197970982479'\n",
    "\n",
    "#'LydiaMorley'\n",
    "\n",
    "# Filtra las predicciones solo para el usuario específico\n",
    "predicciones_usuario = df[df['user_id'] == '76561198081962345']\n",
    "\n",
    "# Filtra los videojuegos no vistos por el usuario\n",
    "videojuegos_no_vistos = df[~df['item_id'].isin(predicciones_usuario['item_id'])]\n",
    "\n",
    "# Ordena las predicciones en orden descendente\n",
    "videojuegos_no_vistos = videojuegos_no_vistos.sort_values(by='predicciones', ascending=False)\n",
    "\n",
    "# Selecciona los 5 mejores videojuegos para recomendar\n",
    "top_recomendaciones = videojuegos_no_vistos.head(5)\n",
    "\n",
    "# Imprime las recomendaciones\n",
    "print(\"Top 5 Recomendaciones:\")\n",
    "lista_juegos=[]\n",
    "for index, row in top_recomendaciones.iterrows():\n",
    "    lista_juegos.append(row['app_name'])\n",
    "print(lista_juegos)\n",
    "    \n"
   ]
  },
  {
   "cell_type": "code",
   "execution_count": 27,
   "metadata": {},
   "outputs": [
    {
     "data": {
      "text/html": [
       "<div>\n",
       "<style scoped>\n",
       "    .dataframe tbody tr th:only-of-type {\n",
       "        vertical-align: middle;\n",
       "    }\n",
       "\n",
       "    .dataframe tbody tr th {\n",
       "        vertical-align: top;\n",
       "    }\n",
       "\n",
       "    .dataframe thead th {\n",
       "        text-align: right;\n",
       "    }\n",
       "</style>\n",
       "<table border=\"1\" class=\"dataframe\">\n",
       "  <thead>\n",
       "    <tr style=\"text-align: right;\">\n",
       "      <th></th>\n",
       "      <th>item_id</th>\n",
       "      <th>user_id</th>\n",
       "      <th>recommend</th>\n",
       "      <th>sentiment_analysis</th>\n",
       "      <th>app_name</th>\n",
       "      <th>rating</th>\n",
       "      <th>predicciones</th>\n",
       "    </tr>\n",
       "  </thead>\n",
       "  <tbody>\n",
       "    <tr>\n",
       "      <th>4</th>\n",
       "      <td>1250</td>\n",
       "      <td>76561198081962345</td>\n",
       "      <td>True</td>\n",
       "      <td>1</td>\n",
       "      <td>Killing Floor</td>\n",
       "      <td>4.0</td>\n",
       "      <td>4.174789</td>\n",
       "    </tr>\n",
       "  </tbody>\n",
       "</table>\n",
       "</div>"
      ],
      "text/plain": [
       "   item_id            user_id  recommend  sentiment_analysis       app_name  \\\n",
       "4     1250  76561198081962345       True                   1  Killing Floor   \n",
       "\n",
       "   rating  predicciones  \n",
       "4     4.0      4.174789  "
      ]
     },
     "execution_count": 27,
     "metadata": {},
     "output_type": "execute_result"
    }
   ],
   "source": [
    "filtro= df.loc[df['user_id'] == '76561198081962345']\n",
    "filtro"
   ]
  },
  {
   "cell_type": "markdown",
   "metadata": {},
   "source": [
    "Top 5 Recomendaciones:\n",
    "Spiral Knights 4.823347712736086\n",
    "METAL GEAR SOLID V: THE PHANTOM PAIN 4.823347712736086\n",
    "The Evil Within 4.823347712736086\n",
    "Call of Duty®: Advanced Warfare - Gold Edition 4.823347712736086\n",
    "Assassin's Creed® Unity 4.823347712736086"
   ]
  },
  {
   "cell_type": "code",
   "execution_count": 30,
   "metadata": {},
   "outputs": [],
   "source": [
    "with open('modelo_final.pkl', 'wb') as file:\n",
    "    pickle.dump(mejor_svd, file)"
   ]
  },
  {
   "cell_type": "code",
   "execution_count": 37,
   "metadata": {},
   "outputs": [],
   "source": [
    "prueba= pd.read_parquet('./data/df_ML.parquet')"
   ]
  },
  {
   "cell_type": "code",
   "execution_count": 52,
   "metadata": {},
   "outputs": [
    {
     "data": {
      "text/html": [
       "<div>\n",
       "<style scoped>\n",
       "    .dataframe tbody tr th:only-of-type {\n",
       "        vertical-align: middle;\n",
       "    }\n",
       "\n",
       "    .dataframe tbody tr th {\n",
       "        vertical-align: top;\n",
       "    }\n",
       "\n",
       "    .dataframe thead th {\n",
       "        text-align: right;\n",
       "    }\n",
       "</style>\n",
       "<table border=\"1\" class=\"dataframe\">\n",
       "  <thead>\n",
       "    <tr style=\"text-align: right;\">\n",
       "      <th></th>\n",
       "      <th>item_id</th>\n",
       "      <th>user_id</th>\n",
       "      <th>recommend</th>\n",
       "      <th>sentiment_analysis</th>\n",
       "      <th>app_name</th>\n",
       "      <th>rating</th>\n",
       "      <th>predicciones</th>\n",
       "    </tr>\n",
       "  </thead>\n",
       "  <tbody>\n",
       "    <tr>\n",
       "      <th>0</th>\n",
       "      <td>1250</td>\n",
       "      <td>76561197970982479</td>\n",
       "      <td>True</td>\n",
       "      <td>2</td>\n",
       "      <td>Killing Floor</td>\n",
       "      <td>5.0</td>\n",
       "      <td>4.410874</td>\n",
       "    </tr>\n",
       "    <tr>\n",
       "      <th>1</th>\n",
       "      <td>1250</td>\n",
       "      <td>death-hunter</td>\n",
       "      <td>True</td>\n",
       "      <td>2</td>\n",
       "      <td>Killing Floor</td>\n",
       "      <td>5.0</td>\n",
       "      <td>4.496091</td>\n",
       "    </tr>\n",
       "    <tr>\n",
       "      <th>2</th>\n",
       "      <td>1250</td>\n",
       "      <td>DJKamBer</td>\n",
       "      <td>True</td>\n",
       "      <td>0</td>\n",
       "      <td>Killing Floor</td>\n",
       "      <td>3.0</td>\n",
       "      <td>4.308860</td>\n",
       "    </tr>\n",
       "    <tr>\n",
       "      <th>3</th>\n",
       "      <td>1250</td>\n",
       "      <td>diego9031</td>\n",
       "      <td>True</td>\n",
       "      <td>1</td>\n",
       "      <td>Killing Floor</td>\n",
       "      <td>4.0</td>\n",
       "      <td>4.237986</td>\n",
       "    </tr>\n",
       "    <tr>\n",
       "      <th>4</th>\n",
       "      <td>1250</td>\n",
       "      <td>76561198081962345</td>\n",
       "      <td>True</td>\n",
       "      <td>1</td>\n",
       "      <td>Killing Floor</td>\n",
       "      <td>4.0</td>\n",
       "      <td>4.174789</td>\n",
       "    </tr>\n",
       "    <tr>\n",
       "      <th>...</th>\n",
       "      <td>...</td>\n",
       "      <td>...</td>\n",
       "      <td>...</td>\n",
       "      <td>...</td>\n",
       "      <td>...</td>\n",
       "      <td>...</td>\n",
       "      <td>...</td>\n",
       "    </tr>\n",
       "    <tr>\n",
       "      <th>41609</th>\n",
       "      <td>367780</td>\n",
       "      <td>laislabonita75</td>\n",
       "      <td>True</td>\n",
       "      <td>2</td>\n",
       "      <td>Aero's Quest</td>\n",
       "      <td>5.0</td>\n",
       "      <td>3.848902</td>\n",
       "    </tr>\n",
       "    <tr>\n",
       "      <th>41610</th>\n",
       "      <td>367780</td>\n",
       "      <td>evilindiegaming</td>\n",
       "      <td>True</td>\n",
       "      <td>2</td>\n",
       "      <td>Aero's Quest</td>\n",
       "      <td>5.0</td>\n",
       "      <td>4.330905</td>\n",
       "    </tr>\n",
       "    <tr>\n",
       "      <th>41611</th>\n",
       "      <td>305920</td>\n",
       "      <td>laislabonita75</td>\n",
       "      <td>False</td>\n",
       "      <td>0</td>\n",
       "      <td>Another Perspective</td>\n",
       "      <td>0.0</td>\n",
       "      <td>3.848902</td>\n",
       "    </tr>\n",
       "    <tr>\n",
       "      <th>41612</th>\n",
       "      <td>306040</td>\n",
       "      <td>Gamer0009</td>\n",
       "      <td>True</td>\n",
       "      <td>2</td>\n",
       "      <td>The Howler</td>\n",
       "      <td>5.0</td>\n",
       "      <td>4.308333</td>\n",
       "    </tr>\n",
       "    <tr>\n",
       "      <th>41613</th>\n",
       "      <td>307130</td>\n",
       "      <td>llDracuwulf</td>\n",
       "      <td>True</td>\n",
       "      <td>2</td>\n",
       "      <td>Asteria</td>\n",
       "      <td>5.0</td>\n",
       "      <td>4.321891</td>\n",
       "    </tr>\n",
       "  </tbody>\n",
       "</table>\n",
       "<p>41614 rows × 7 columns</p>\n",
       "</div>"
      ],
      "text/plain": [
       "       item_id            user_id  recommend  sentiment_analysis  \\\n",
       "0         1250  76561197970982479       True                   2   \n",
       "1         1250       death-hunter       True                   2   \n",
       "2         1250           DJKamBer       True                   0   \n",
       "3         1250          diego9031       True                   1   \n",
       "4         1250  76561198081962345       True                   1   \n",
       "...        ...                ...        ...                 ...   \n",
       "41609   367780     laislabonita75       True                   2   \n",
       "41610   367780    evilindiegaming       True                   2   \n",
       "41611   305920     laislabonita75      False                   0   \n",
       "41612   306040          Gamer0009       True                   2   \n",
       "41613   307130        llDracuwulf       True                   2   \n",
       "\n",
       "                  app_name  rating  predicciones  \n",
       "0            Killing Floor     5.0      4.410874  \n",
       "1            Killing Floor     5.0      4.496091  \n",
       "2            Killing Floor     3.0      4.308860  \n",
       "3            Killing Floor     4.0      4.237986  \n",
       "4            Killing Floor     4.0      4.174789  \n",
       "...                    ...     ...           ...  \n",
       "41609         Aero's Quest     5.0      3.848902  \n",
       "41610         Aero's Quest     5.0      4.330905  \n",
       "41611  Another Perspective     0.0      3.848902  \n",
       "41612           The Howler     5.0      4.308333  \n",
       "41613              Asteria     5.0      4.321891  \n",
       "\n",
       "[41614 rows x 7 columns]"
      ]
     },
     "execution_count": 52,
     "metadata": {},
     "output_type": "execute_result"
    }
   ],
   "source": [
    "prueba"
   ]
  },
  {
   "cell_type": "code",
   "execution_count": null,
   "metadata": {},
   "outputs": [],
   "source": []
  },
  {
   "cell_type": "code",
   "execution_count": 79,
   "metadata": {},
   "outputs": [],
   "source": [
    "def recomendacion_usuario2(user_id ):\n",
    "    \n",
    "    predicciones_usuario = prueba[prueba['user_id'] == user_id]\n",
    "\n",
    "    # Filtra los videojuegos no vistos por el usuario\n",
    "    videojuegos_no_vistos = prueba[~prueba['item_id'].isin(predicciones_usuario['item_id'])]\n",
    "\n",
    "    # Ordena las predicciones en orden descendente\n",
    "    videojuegos_no_vistos = videojuegos_no_vistos.sort_values(by='predicciones', ascending=False)\n",
    "\n",
    "    # Selecciona los 5 mejores videojuegos para recomendar\n",
    "    top_recomendaciones = videojuegos_no_vistos.head(5)\n",
    "\n",
    "    # Imprime las recomendaciones\n",
    "    lista_juegos = []\n",
    "\n",
    "    # Supongamos que top_recomendaciones es un DataFrame de pandas\n",
    "    for _, row in top_recomendaciones.iterrows():\n",
    "        lista_juegos.append(row['app_name'])\n",
    "\n",
    "    diccionario = {}\n",
    "\n",
    "    for i, juego in enumerate(lista_juegos, start=1):\n",
    "        opcion = f\"opcion{i}\"\n",
    "        diccionario[opcion] = juego\n",
    "\n",
    "    return diccionario"
   ]
  },
  {
   "cell_type": "code",
   "execution_count": 80,
   "metadata": {},
   "outputs": [
    {
     "data": {
      "text/plain": [
       "{'opcion1': 'Fallen Earth Free2Play',\n",
       " 'opcion2': 'AudioSurf',\n",
       " 'opcion3': 'AudioSurf',\n",
       " 'opcion4': 'AudioSurf',\n",
       " 'opcion5': 'F1 2014'}"
      ]
     },
     "execution_count": 80,
     "metadata": {},
     "output_type": "execute_result"
    }
   ],
   "source": [
    "recomendacion_usuario2('JunG00berfuckingsucks')"
   ]
  },
  {
   "cell_type": "code",
   "execution_count": 81,
   "metadata": {},
   "outputs": [
    {
     "data": {
      "text/plain": [
       "{'opcion1': 'Max Gentlemen',\n",
       " 'opcion2': 'F1 2014',\n",
       " 'opcion3': 'Borderlands 2',\n",
       " 'opcion4': 'Borderlands 2',\n",
       " 'opcion5': 'To the Moon'}"
      ]
     },
     "execution_count": 81,
     "metadata": {},
     "output_type": "execute_result"
    }
   ],
   "source": [
    "recomendacion_usuario2('76561198107847795')"
   ]
  },
  {
   "cell_type": "code",
   "execution_count": 83,
   "metadata": {},
   "outputs": [
    {
     "data": {
      "text/plain": [
       "{'opcion1': 'XCOM: Enemy Unknown',\n",
       " 'opcion2': 'BLOCKADE 3D',\n",
       " 'opcion3': 'Octodad: Dadliest Catch',\n",
       " 'opcion4': 'Trove',\n",
       " 'opcion5': 'Terraria'}"
      ]
     },
     "execution_count": 83,
     "metadata": {},
     "output_type": "execute_result"
    }
   ],
   "source": [
    "recomendacion_usuario2('laislabonita75')"
   ]
  },
  {
   "cell_type": "markdown",
   "metadata": {},
   "source": [
    "# KNN"
   ]
  },
  {
   "cell_type": "code",
   "execution_count": 22,
   "metadata": {},
   "outputs": [
    {
     "name": "stdout",
     "output_type": "stream",
     "text": [
      "Computing the msd similarity matrix...\n",
      "Done computing similarity matrix.\n",
      "RMSE: 1.3067\n"
     ]
    },
    {
     "data": {
      "text/plain": [
       "1.3067032595555026"
      ]
     },
     "execution_count": 22,
     "metadata": {},
     "output_type": "execute_result"
    }
   ],
   "source": [
    "from surprise import KNNBasic\n",
    "\n",
    "# Definir un lector para el formato de tus datos\n",
    "reader = Reader(rating_scale=(0, 5))  # Adaptar rating_scale a tus datos\n",
    "\n",
    "# Cargar los datos con el lector\n",
    "data = Dataset.load_from_df(entrenar, reader)\n",
    "\n",
    "# Dividir el conjunto de datos en entrenamiento y prueba\n",
    "trainset, testset = train_test_split(data, test_size=0.25)  # Puedes ajustar el tamaño de prueba\n",
    "\n",
    "# Seleccionar un algoritmo (por ejemplo, KNN) y entrenar el modelo\n",
    "model2 = KNNBasic()  # Seleccionar el algoritmo KNN\n",
    "model2.fit(trainset)\n",
    "\n",
    "# Realizar predicciones en el conjunto de prueba\n",
    "predictions = model2.test(testset)\n",
    "\n",
    "# Evaluar las predicciones\n",
    "accuracy.rmse(predictions)"
   ]
  },
  {
   "cell_type": "code",
   "execution_count": null,
   "metadata": {},
   "outputs": [],
   "source": [
    "# ID del usuario para el cual quieres obtener recomendaciones\n",
    "usuario_especifico = '76561197970982479'  # Reemplaza 'js41637' con el ID del usuario para el que quieres las recomendaciones\n",
    "\n",
    "# Crear una lista de juegos ya valorados por el usuario específico\n",
    "juegos_valorados = prueba1[prueba1['user'] == usuario_especifico]['app_name'].unique()\n",
    "\n",
    "# Crear una lista de todos los juegos disponibles\n",
    "todos_los_juegos = prueba1['app_name'].unique()\n",
    "\n",
    "# Crear una lista de juegos no valorados por el usuario específico\n",
    "juegos_no_valorados = list(set(todos_los_juegos) - set(juegos_valorados))\n",
    "\n",
    "# Generar predicciones para los juegos no valorados por el usuario\n",
    "predicciones = [model.predict(usuario_especifico, juego) for juego in juegos_no_valorados]\n",
    "\n",
    "# Ordenar las predicciones en base a la valoración y obtener los juegos recomendados\n",
    "recomendaciones = sorted(predicciones, key=lambda x: x.est, reverse=True)[:10]  # Obtener las 5 mejores recomendaciones\n",
    "\n",
    "# Mostrar los juegos recomendados\n",
    "for recomendacion in recomendaciones:\n",
    "    print(f\"Juego: {recomendacion.iid}, Valoración estimada: {recomendacion.est}\")"
   ]
  }
 ],
 "metadata": {
  "kernelspec": {
   "display_name": "Luisin",
   "language": "python",
   "name": "python3"
  },
  "language_info": {
   "codemirror_mode": {
    "name": "ipython",
    "version": 3
   },
   "file_extension": ".py",
   "mimetype": "text/x-python",
   "name": "python",
   "nbconvert_exporter": "python",
   "pygments_lexer": "ipython3",
   "version": "3.9.18"
  }
 },
 "nbformat": 4,
 "nbformat_minor": 2
}
